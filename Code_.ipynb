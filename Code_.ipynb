{
 "cells": [
  {
   "cell_type": "code",
   "execution_count": 1,
   "id": "852712b7",
   "metadata": {},
   "outputs": [],
   "source": [
    "import cv2\n",
    "import numpy as np\n",
    "\n",
    "video = cv2.VideoCapture(\"C:\\\\Users\\molli\\\\Downloads\\\\video.mp4\")\n",
    "image = cv2.imread(\"C:\\\\Users\\\\molli\\\\Downloads\\\\image.jpeg\")\n",
    "\n",
    "while True:\n",
    "  ret, frame = video.read()\n",
    "  frame = cv2.resize(frame,(640,480))\n",
    "  image = cv2.resize(image,(640,480))\n",
    "  hsv = cv2.cvtColor(frame, cv2.COLOR_BGR2HSV)\n",
    "\n",
    "  l_g = np.array([32,94,132])\n",
    "  u_g = np. array([179,255,255])\n",
    "\n",
    "  mask = cv2.inRange(hsv, l_g, u_g)\n",
    "  res= cv2.bitwise_and(frame,frame, mask=mask)\n",
    "  f=frame-res\n",
    "\n",
    "  green_screen = np. where(f==0, image, f)\n",
    "  cv2.imshow(\"final\", green_screen)\n",
    "  k=cv2.waitKey(1)\n",
    "  if k==ord('q'):\n",
    "    break\n",
    "  \n",
    "video.release()\n",
    "cv2.destroyAllWindows()"
   ]
  }
 ],
 "metadata": {
  "kernelspec": {
   "display_name": "Python 3 (ipykernel)",
   "language": "python",
   "name": "python3"
  },
  "language_info": {
   "codemirror_mode": {
    "name": "ipython",
    "version": 3
   },
   "file_extension": ".py",
   "mimetype": "text/x-python",
   "name": "python",
   "nbconvert_exporter": "python",
   "pygments_lexer": "ipython3",
   "version": "3.9.12"
  }
 },
 "nbformat": 4,
 "nbformat_minor": 5
}
